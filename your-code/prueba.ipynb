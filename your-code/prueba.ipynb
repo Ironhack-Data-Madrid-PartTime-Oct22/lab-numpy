{
 "cells": [
  {
   "cell_type": "code",
   "execution_count": 2,
   "metadata": {},
   "outputs": [
    {
     "name": "stdout",
     "output_type": "stream",
     "text": [
      "1.23.4\n"
     ]
    }
   ],
   "source": [
    "#1\n",
    "\n",
    "import numpy as np\n",
    "#2\n",
    "\n",
    "print(np.version.version)"
   ]
  },
  {
   "cell_type": "code",
   "execution_count": 3,
   "metadata": {},
   "outputs": [
    {
     "data": {
      "text/plain": [
       "array([[[48, 45, 13, 25, 47],\n",
       "        [ 9, 47, 23, 26, 27],\n",
       "        [32, 16,  6, 38, 46]],\n",
       "\n",
       "       [[22, 45, 26, 39, 23],\n",
       "        [33,  6, 45, 47, 37],\n",
       "        [ 2, 20, 30,  7, 13]]])"
      ]
     },
     "execution_count": 3,
     "metadata": {},
     "output_type": "execute_result"
    }
   ],
   "source": [
    "#3\n",
    "#4\n",
    "\n",
    "a = np.random.randint(1,50, (2,3,5))\n",
    "a"
   ]
  },
  {
   "cell_type": "markdown",
   "metadata": {},
   "source": []
  },
  {
   "cell_type": "code",
   "execution_count": 18,
   "metadata": {},
   "outputs": [
    {
     "data": {
      "text/plain": [
       "array([[[1, 1, 1],\n",
       "        [1, 1, 1]],\n",
       "\n",
       "       [[1, 1, 1],\n",
       "        [1, 1, 1]],\n",
       "\n",
       "       [[1, 1, 1],\n",
       "        [1, 1, 1]],\n",
       "\n",
       "       [[1, 1, 1],\n",
       "        [1, 1, 1]],\n",
       "\n",
       "       [[1, 1, 1],\n",
       "        [1, 1, 1]]])"
      ]
     },
     "execution_count": 18,
     "metadata": {},
     "output_type": "execute_result"
    }
   ],
   "source": [
    "#5\n",
    "#6\n",
    "\n",
    "b = np.ones((5,2,3), dtype= int)\n",
    "b"
   ]
  },
  {
   "cell_type": "code",
   "execution_count": 19,
   "metadata": {},
   "outputs": [
    {
     "name": "stdout",
     "output_type": "stream",
     "text": [
      "True the size of a is 30 and for b is 30\n"
     ]
    }
   ],
   "source": [
    "#7\n",
    "\n",
    "if a.size == b.size:\n",
    "    print(f\"True the size of a is {a.size} and for b is {b.size}\")"
   ]
  },
  {
   "cell_type": "code",
   "execution_count": 20,
   "metadata": {},
   "outputs": [
    {
     "ename": "ValueError",
     "evalue": "operands could not be broadcast together with shapes (2,3,5) (5,2,3) ",
     "output_type": "error",
     "traceback": [
      "\u001b[1;31m---------------------------------------------------------------------------\u001b[0m",
      "\u001b[1;31mValueError\u001b[0m                                Traceback (most recent call last)",
      "Cell \u001b[1;32mIn [20], line 3\u001b[0m\n\u001b[0;32m      1\u001b[0m \u001b[39m#8 No se pueden juntar porque tienen diferentes configuraciones de lineas y columnas\u001b[39;00m\n\u001b[1;32m----> 3\u001b[0m np\u001b[39m.\u001b[39;49madd(a,b)\n",
      "\u001b[1;31mValueError\u001b[0m: operands could not be broadcast together with shapes (2,3,5) (5,2,3) "
     ]
    }
   ],
   "source": [
    "#8 No se pueden juntar porque tienen diferentes configuraciones de lineas y columnas\n",
    "\n",
    "np.add(a,b)"
   ]
  },
  {
   "cell_type": "code",
   "execution_count": 24,
   "metadata": {},
   "outputs": [
    {
     "data": {
      "text/plain": [
       "array([[[1, 1, 1, 1, 1],\n",
       "        [1, 1, 1, 1, 1],\n",
       "        [1, 1, 1, 1, 1]],\n",
       "\n",
       "       [[1, 1, 1, 1, 1],\n",
       "        [1, 1, 1, 1, 1],\n",
       "        [1, 1, 1, 1, 1]]])"
      ]
     },
     "execution_count": 24,
     "metadata": {},
     "output_type": "execute_result"
    }
   ],
   "source": [
    "#9 \n",
    "\n",
    "c = np.transpose(b,(1,2,0))\n",
    "c"
   ]
  },
  {
   "cell_type": "code",
   "execution_count": 26,
   "metadata": {},
   "outputs": [
    {
     "data": {
      "text/plain": [
       "array([[[49, 46, 14, 26, 48],\n",
       "        [10, 48, 24, 27, 28],\n",
       "        [33, 17,  7, 39, 47]],\n",
       "\n",
       "       [[23, 46, 27, 40, 24],\n",
       "        [34,  7, 46, 48, 38],\n",
       "        [ 3, 21, 31,  8, 14]]])"
      ]
     },
     "execution_count": 26,
     "metadata": {},
     "output_type": "execute_result"
    }
   ],
   "source": [
    "#10, ahora funciona porque tienen la misma disposición de filas y columnas\n",
    "\n",
    "d = np.add(a,c)\n",
    "d"
   ]
  },
  {
   "cell_type": "code",
   "execution_count": 30,
   "metadata": {},
   "outputs": [
    {
     "name": "stdout",
     "output_type": "stream",
     "text": [
      "[[[48 45 13 25 47]\n",
      "  [ 9 47 23 26 27]\n",
      "  [32 16  6 38 46]]\n",
      "\n",
      " [[22 45 26 39 23]\n",
      "  [33  6 45 47 37]\n",
      "  [ 2 20 30  7 13]]]\n",
      "[[[49 46 14 26 48]\n",
      "  [10 48 24 27 28]\n",
      "  [33 17  7 39 47]]\n",
      "\n",
      " [[23 46 27 40 24]\n",
      "  [34  7 46 48 38]\n",
      "  [ 3 21 31  8 14]]]\n"
     ]
    },
    {
     "data": {
      "text/plain": [
       "(None, None)"
      ]
     },
     "execution_count": 30,
     "metadata": {},
     "output_type": "execute_result"
    }
   ],
   "source": [
    "#11 La diferencia es que la a es la original y la d se le ha sumado los valores de la b, que son todo 1, por lo tanto la diferencia\n",
    "# está en que d es a +1\n",
    "\n",
    "print(a), print(d)"
   ]
  },
  {
   "cell_type": "code",
   "execution_count": 32,
   "metadata": {},
   "outputs": [
    {
     "data": {
      "text/plain": [
       "array([[[48, 45, 13, 25, 47],\n",
       "        [ 9, 47, 23, 26, 27],\n",
       "        [32, 16,  6, 38, 46]],\n",
       "\n",
       "       [[22, 45, 26, 39, 23],\n",
       "        [33,  6, 45, 47, 37],\n",
       "        [ 2, 20, 30,  7, 13]]])"
      ]
     },
     "execution_count": 32,
     "metadata": {},
     "output_type": "execute_result"
    }
   ],
   "source": [
    "#12\n",
    "#13 El resultado es el mismo ya que al multiplicar cualquier valor por 1, el resultado es el mismo, por lo tanto a = c\n",
    "\n",
    "e = np.multiply(a,c)\n",
    "e"
   ]
  },
  {
   "cell_type": "code",
   "execution_count": 38,
   "metadata": {},
   "outputs": [
    {
     "data": {
      "text/plain": [
       "(49, 3, 29.1)"
      ]
     },
     "execution_count": 38,
     "metadata": {},
     "output_type": "execute_result"
    }
   ],
   "source": [
    "#14\n",
    "\n",
    "d_max = np.max(d)\n",
    "d_min = np.min(d)\n",
    "d_mean = np.mean(d)\n",
    "d_max, d_min, d_mean"
   ]
  },
  {
   "cell_type": "code",
   "execution_count": 40,
   "metadata": {},
   "outputs": [
    {
     "data": {
      "text/plain": [
       "array([[[0, 0, 0, 0, 0],\n",
       "        [0, 0, 0, 0, 0],\n",
       "        [0, 0, 0, 0, 0]],\n",
       "\n",
       "       [[0, 0, 0, 0, 0],\n",
       "        [0, 0, 0, 0, 0],\n",
       "        [0, 0, 0, 0, 0]]])"
      ]
     },
     "execution_count": 40,
     "metadata": {},
     "output_type": "execute_result"
    }
   ],
   "source": [
    "#15\n",
    "\n",
    "f = np.empty((2,3,5), dtype = int)\n",
    "f"
   ]
  },
  {
   "cell_type": "code",
   "execution_count": 60,
   "metadata": {},
   "outputs": [
    {
     "ename": "ValueError",
     "evalue": "The truth value of an array with more than one element is ambiguous. Use a.any() or a.all()",
     "output_type": "error",
     "traceback": [
      "\u001b[1;31m---------------------------------------------------------------------------\u001b[0m",
      "\u001b[1;31mValueError\u001b[0m                                Traceback (most recent call last)",
      "Cell \u001b[1;32mIn [60], line 5\u001b[0m\n\u001b[0;32m      3\u001b[0m \u001b[39mfor\u001b[39;00m i \u001b[39min\u001b[39;00m d[\u001b[39m0\u001b[39m]:\n\u001b[0;32m      4\u001b[0m     \u001b[39mfor\u001b[39;00m z \u001b[39min\u001b[39;00m d[\u001b[39m1\u001b[39m]:\n\u001b[1;32m----> 5\u001b[0m         \u001b[39mif\u001b[39;00m z \u001b[39m>\u001b[39;49m (d_min) \u001b[39mand\u001b[39;00m i \u001b[39m<\u001b[39m (d_mean):\n\u001b[0;32m      6\u001b[0m             f \u001b[39m=\u001b[39m \u001b[39m25\u001b[39m\n",
      "\u001b[1;31mValueError\u001b[0m: The truth value of an array with more than one element is ambiguous. Use a.any() or a.all()"
     ]
    }
   ],
   "source": [
    "#16 \n",
    "#if it's larger than d_min but smaller than d_mean, assign 25 \n",
    "for i in d[0]:\n",
    "    for z in d[1]:\n",
    "        if z > d_min and i < d_mean:\n",
    "            f = 25"
   ]
  }
 ],
 "metadata": {
  "kernelspec": {
   "display_name": "iron",
   "language": "python",
   "name": "iron"
  },
  "language_info": {
   "codemirror_mode": {
    "name": "ipython",
    "version": 3
   },
   "file_extension": ".py",
   "mimetype": "text/x-python",
   "name": "python",
   "nbconvert_exporter": "python",
   "pygments_lexer": "ipython3",
   "version": "3.9.13"
  },
  "orig_nbformat": 4,
  "vscode": {
   "interpreter": {
    "hash": "50cc79e049fc694ec4a617632d3f3b416d701e5c7d1bd2dcb3b8bc06996fdedb"
   }
  }
 },
 "nbformat": 4,
 "nbformat_minor": 2
}
